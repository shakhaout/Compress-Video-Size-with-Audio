{
 "cells": [
  {
   "cell_type": "code",
   "execution_count": null,
   "metadata": {},
   "outputs": [],
   "source": [
    "import cv2\n",
    "import numpy as np\n",
    "#ffpyplayer for playing audio\n",
    "from ffpyplayer.player import MediaPlayer\n",
    "import subprocess\n",
    "from tqdm import tqdm"
   ]
  },
  {
   "cell_type": "markdown",
   "metadata": {},
   "source": [
    "# Reduce frame size"
   ]
  },
  {
   "cell_type": "code",
   "execution_count": null,
   "metadata": {},
   "outputs": [],
   "source": [
    "video_file='20210511_100711.mp4'\n",
    "def reduce_size(video_path):\n",
    "    cap=cv2.VideoCapture(video_path)\n",
    "    frame_count = int(cap.get(cv2.CAP_PROP_FRAME_COUNT))\n",
    "    print(\"Frame Count:\",frame_count)\n",
    "    print('Width: ',cap.get(3))\n",
    "    print(\"Height: \",cap.get(4))\n",
    "    FPS = cap.get(cv2.CAP_PROP_FPS)\n",
    "    print('FPS:',FPS)\n",
    "    player = MediaPlayer(video_path)\n",
    "    fourcc = cv2.VideoWriter_fourcc(*'XVID')\n",
    "    out = cv2.VideoWriter('output.mp4',fourcc,FPS,(480,320))\n",
    "    i=1\n",
    "    pbar =tqdm(total=frame_count)\n",
    "    while cap.isOpened():\n",
    "        pbar.update(i)\n",
    "        ret, frame=cap.read()\n",
    "        audio_frame, val = player.get_frame()\n",
    "        if not ret:\n",
    "            print(\"End of video\")\n",
    "            break\n",
    "        if cv2.waitKey(28) & 0xFF == ord(\"q\"):\n",
    "            break\n",
    "        frame = cv2.resize(frame, dsize=(480,320))\n",
    "        out.write(frame)\n",
    "        cv2.imshow(\"Video\", frame)\n",
    "        if val != 'eof' and audio_frame is not None:\n",
    "            #audio\n",
    "            img, t = audio_frame\n",
    "    cap.release()\n",
    "    out.release()\n",
    "    cv2.destroyAllWindows()\n",
    "reduce_size(video_file)"
   ]
  },
  {
   "cell_type": "markdown",
   "metadata": {},
   "source": [
    "# Extract audio "
   ]
  },
  {
   "cell_type": "code",
   "execution_count": null,
   "metadata": {},
   "outputs": [],
   "source": [
    "command = \"ffmpeg -i 20210511_100711.mp4 -ab 160k -ac 2 -ar 44100 -vn audio.wav\"\n",
    "\n",
    "subprocess.call(command, shell=True)"
   ]
  },
  {
   "cell_type": "markdown",
   "metadata": {},
   "source": [
    "# Merge audio with muted video"
   ]
  },
  {
   "cell_type": "code",
   "execution_count": null,
   "metadata": {},
   "outputs": [],
   "source": [
    "cmd = 'ffmpeg -i audio.wav -i output.mp4 yoga2.mp4'\n",
    "subprocess.call(cmd)#Return to ‘0’ means the merge is successful"
   ]
  }
 ],
 "metadata": {
  "kernelspec": {
   "display_name": "Python 3",
   "language": "python",
   "name": "python3"
  },
  "language_info": {
   "codemirror_mode": {
    "name": "ipython",
    "version": 3
   },
   "file_extension": ".py",
   "mimetype": "text/x-python",
   "name": "python",
   "nbconvert_exporter": "python",
   "pygments_lexer": "ipython3",
   "version": "3.8.5"
  }
 },
 "nbformat": 4,
 "nbformat_minor": 4
}
